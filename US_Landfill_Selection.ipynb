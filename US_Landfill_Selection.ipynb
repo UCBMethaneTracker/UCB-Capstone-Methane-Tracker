{
 "cells": [
  {
   "cell_type": "code",
   "execution_count": 1,
   "metadata": {},
   "outputs": [],
   "source": [
    "import pandas as pd\n",
    "import numpy as np \n",
    "import os\n",
    "import matplotlib.pyplot as plt \n",
    "import seaborn as sns"
   ]
  },
  {
   "cell_type": "code",
   "execution_count": 50,
   "metadata": {},
   "outputs": [
    {
     "data": {
      "text/html": [
       "<div>\n",
       "<style scoped>\n",
       "    .dataframe tbody tr th:only-of-type {\n",
       "        vertical-align: middle;\n",
       "    }\n",
       "\n",
       "    .dataframe tbody tr th {\n",
       "        vertical-align: top;\n",
       "    }\n",
       "\n",
       "    .dataframe thead th {\n",
       "        text-align: right;\n",
       "    }\n",
       "</style>\n",
       "<table border=\"1\" class=\"dataframe\">\n",
       "  <thead>\n",
       "    <tr style=\"text-align: right;\">\n",
       "      <th></th>\n",
       "      <th>Landfill_ID</th>\n",
       "      <th>Landfill_Name</th>\n",
       "      <th>Landfill_Alias</th>\n",
       "      <th>State</th>\n",
       "      <th>City</th>\n",
       "      <th>County</th>\n",
       "      <th>Zipcode</th>\n",
       "      <th>Latitude</th>\n",
       "      <th>Longitude</th>\n",
       "      <th>Ownership_Type</th>\n",
       "      <th>Year_opened</th>\n",
       "      <th>Landfill_Closure_Year</th>\n",
       "      <th>Status</th>\n",
       "      <th>Current_Area</th>\n",
       "      <th>Current_Depth</th>\n",
       "      <th>Design_Capacity_tons</th>\n",
       "      <th>Waste_in_Place_tons</th>\n",
       "      <th>Annual_waste_acceptance_rate_tons</th>\n",
       "    </tr>\n",
       "  </thead>\n",
       "  <tbody>\n",
       "    <tr>\n",
       "      <td>0</td>\n",
       "      <td>352</td>\n",
       "      <td>Puente Hills LF</td>\n",
       "      <td>Puente Hills (PERG); San Gabriel Valley Dump</td>\n",
       "      <td>CA</td>\n",
       "      <td>Whittier</td>\n",
       "      <td>Los Angeles</td>\n",
       "      <td>90601</td>\n",
       "      <td>34.020330</td>\n",
       "      <td>-118.006040</td>\n",
       "      <td>Public</td>\n",
       "      <td>1957.0</td>\n",
       "      <td>2013.0</td>\n",
       "      <td>Closed</td>\n",
       "      <td>590.0</td>\n",
       "      <td>229.5</td>\n",
       "      <td>142,400,000</td>\n",
       "      <td>142,250,454</td>\n",
       "      <td>2,135,318</td>\n",
       "    </tr>\n",
       "    <tr>\n",
       "      <td>1</td>\n",
       "      <td>966</td>\n",
       "      <td>Fresh Kills SLF</td>\n",
       "      <td>NaN</td>\n",
       "      <td>NY</td>\n",
       "      <td>Staten Island</td>\n",
       "      <td>Richmond</td>\n",
       "      <td>10312</td>\n",
       "      <td>40.572000</td>\n",
       "      <td>-74.188000</td>\n",
       "      <td>Public</td>\n",
       "      <td>1948.0</td>\n",
       "      <td>2002.0</td>\n",
       "      <td>Closed</td>\n",
       "      <td>1416.0</td>\n",
       "      <td>NaN</td>\n",
       "      <td>135,450,945</td>\n",
       "      <td>135,450,945</td>\n",
       "      <td>1,014,300</td>\n",
       "    </tr>\n",
       "    <tr>\n",
       "      <td>2</td>\n",
       "      <td>1465</td>\n",
       "      <td>McCarty Road LF</td>\n",
       "      <td>NaN</td>\n",
       "      <td>TX</td>\n",
       "      <td>Houston</td>\n",
       "      <td>Harris</td>\n",
       "      <td>77078</td>\n",
       "      <td>29.827501</td>\n",
       "      <td>-95.243334</td>\n",
       "      <td>Private</td>\n",
       "      <td>1972.0</td>\n",
       "      <td>2031.0</td>\n",
       "      <td>Open</td>\n",
       "      <td>388.0</td>\n",
       "      <td>NaN</td>\n",
       "      <td>123,783,905</td>\n",
       "      <td>97,983,501</td>\n",
       "      <td>1,834,618</td>\n",
       "    </tr>\n",
       "    <tr>\n",
       "      <td>3</td>\n",
       "      <td>232</td>\n",
       "      <td>Olinda Alpha SLF</td>\n",
       "      <td>Olinda SLF</td>\n",
       "      <td>CA</td>\n",
       "      <td>Brea</td>\n",
       "      <td>Orange</td>\n",
       "      <td>92823</td>\n",
       "      <td>33.933610</td>\n",
       "      <td>-117.843610</td>\n",
       "      <td>Public</td>\n",
       "      <td>1960.0</td>\n",
       "      <td>2021.0</td>\n",
       "      <td>Open</td>\n",
       "      <td>420.0</td>\n",
       "      <td>235.0</td>\n",
       "      <td>96,736,556</td>\n",
       "      <td>86,320,460</td>\n",
       "      <td>2,331,531</td>\n",
       "    </tr>\n",
       "    <tr>\n",
       "      <td>4</td>\n",
       "      <td>930</td>\n",
       "      <td>Apex Regional LF</td>\n",
       "      <td>NaN</td>\n",
       "      <td>NV</td>\n",
       "      <td>Las Vegas</td>\n",
       "      <td>Clark</td>\n",
       "      <td>89165</td>\n",
       "      <td>36.374000</td>\n",
       "      <td>-114.865180</td>\n",
       "      <td>Private</td>\n",
       "      <td>1993.0</td>\n",
       "      <td>2365.0</td>\n",
       "      <td>Open</td>\n",
       "      <td>297.0</td>\n",
       "      <td>300.0</td>\n",
       "      <td>994,920,296</td>\n",
       "      <td>72,848,073</td>\n",
       "      <td>2,804,493</td>\n",
       "    </tr>\n",
       "  </tbody>\n",
       "</table>\n",
       "</div>"
      ],
      "text/plain": [
       "   Landfill_ID     Landfill_Name  \\\n",
       "0          352   Puente Hills LF   \n",
       "1          966   Fresh Kills SLF   \n",
       "2         1465   McCarty Road LF   \n",
       "3          232  Olinda Alpha SLF   \n",
       "4          930  Apex Regional LF   \n",
       "\n",
       "                                 Landfill_Alias State           City  \\\n",
       "0  Puente Hills (PERG); San Gabriel Valley Dump    CA       Whittier   \n",
       "1                                           NaN    NY  Staten Island   \n",
       "2                                           NaN    TX        Houston   \n",
       "3                                    Olinda SLF    CA           Brea   \n",
       "4                                           NaN    NV      Las Vegas   \n",
       "\n",
       "        County Zipcode   Latitude   Longitude Ownership_Type  Year_opened  \\\n",
       "0  Los Angeles   90601  34.020330 -118.006040         Public       1957.0   \n",
       "1     Richmond   10312  40.572000  -74.188000         Public       1948.0   \n",
       "2       Harris   77078  29.827501  -95.243334        Private       1972.0   \n",
       "3       Orange   92823  33.933610 -117.843610         Public       1960.0   \n",
       "4        Clark   89165  36.374000 -114.865180        Private       1993.0   \n",
       "\n",
       "   Landfill_Closure_Year  Status  Current_Area  Current_Depth  \\\n",
       "0                 2013.0  Closed         590.0          229.5   \n",
       "1                 2002.0  Closed        1416.0            NaN   \n",
       "2                 2031.0    Open         388.0            NaN   \n",
       "3                 2021.0    Open         420.0          235.0   \n",
       "4                 2365.0    Open         297.0          300.0   \n",
       "\n",
       "  Design_Capacity_tons Waste_in_Place_tons Annual_waste_acceptance_rate_tons  \n",
       "0          142,400,000         142,250,454                         2,135,318  \n",
       "1          135,450,945         135,450,945                         1,014,300  \n",
       "2          123,783,905          97,983,501                         1,834,618  \n",
       "3           96,736,556          86,320,460                         2,331,531  \n",
       "4          994,920,296          72,848,073                         2,804,493  "
      ]
     },
     "execution_count": 50,
     "metadata": {},
     "output_type": "execute_result"
    }
   ],
   "source": [
    "df = pd.read_csv('consolidated_us_landfill_lat_long.csv', encoding='utf8')\n",
    "df.head()"
   ]
  },
  {
   "cell_type": "code",
   "execution_count": 55,
   "metadata": {},
   "outputs": [],
   "source": [
    "def convert_string_to_int(s):\n",
    "    if type(s) == float:\n",
    "        return s\n",
    "    else: \n",
    "        return int(s.split('-')[0].replace(',' , ''))"
   ]
  },
  {
   "cell_type": "code",
   "execution_count": 59,
   "metadata": {},
   "outputs": [],
   "source": [
    "def convert_str_to_num(s):\n",
    "    if type(s) == float:\n",
    "        return s\n",
    "    else: \n",
    "        return float(s.replace(',' , ''))"
   ]
  },
  {
   "cell_type": "code",
   "execution_count": 53,
   "metadata": {},
   "outputs": [
    {
     "data": {
      "text/plain": [
       "Landfill_ID                            int64\n",
       "Landfill_Name                         object\n",
       "Landfill_Alias                        object\n",
       "State                                 object\n",
       "City                                  object\n",
       "County                                object\n",
       "Zipcode                               object\n",
       "Latitude                             float64\n",
       "Longitude                            float64\n",
       "Ownership_Type                        object\n",
       "Year_opened                          float64\n",
       "Landfill_Closure_Year                float64\n",
       "Status                                object\n",
       "Current_Area                         float64\n",
       "Current_Depth                        float64\n",
       "Design_Capacity_tons                  object\n",
       "Waste_in_Place_tons                   object\n",
       "Annual_waste_acceptance_rate_tons     object\n",
       "dtype: object"
      ]
     },
     "execution_count": 53,
     "metadata": {},
     "output_type": "execute_result"
    }
   ],
   "source": [
    "df.dtypes"
   ]
  },
  {
   "cell_type": "markdown",
   "metadata": {},
   "source": [
    "### Converting the dataframe columns to appropriate object type before analysis"
   ]
  },
  {
   "cell_type": "code",
   "execution_count": 56,
   "metadata": {},
   "outputs": [],
   "source": [
    "df['Zipcode'] = df['Zipcode'].apply(convert_string_to_int)"
   ]
  },
  {
   "cell_type": "code",
   "execution_count": 60,
   "metadata": {},
   "outputs": [],
   "source": [
    "df['Design_Capacity_tons'] = df['Design_Capacity_tons'].apply(convert_str_to_num)\n",
    "df['Waste_in_Place_tons'] = df['Waste_in_Place_tons'].apply(convert_str_to_num)\n",
    "df['Annual_waste_acceptance_rate_tons'] = df['Annual_waste_acceptance_rate_tons'].apply(convert_str_to_num)"
   ]
  },
  {
   "cell_type": "code",
   "execution_count": 61,
   "metadata": {},
   "outputs": [
    {
     "data": {
      "text/html": [
       "<div>\n",
       "<style scoped>\n",
       "    .dataframe tbody tr th:only-of-type {\n",
       "        vertical-align: middle;\n",
       "    }\n",
       "\n",
       "    .dataframe tbody tr th {\n",
       "        vertical-align: top;\n",
       "    }\n",
       "\n",
       "    .dataframe thead th {\n",
       "        text-align: right;\n",
       "    }\n",
       "</style>\n",
       "<table border=\"1\" class=\"dataframe\">\n",
       "  <thead>\n",
       "    <tr style=\"text-align: right;\">\n",
       "      <th></th>\n",
       "      <th>Landfill_ID</th>\n",
       "      <th>Landfill_Name</th>\n",
       "      <th>Landfill_Alias</th>\n",
       "      <th>State</th>\n",
       "      <th>City</th>\n",
       "      <th>County</th>\n",
       "      <th>Zipcode</th>\n",
       "      <th>Latitude</th>\n",
       "      <th>Longitude</th>\n",
       "      <th>Ownership_Type</th>\n",
       "      <th>Year_opened</th>\n",
       "      <th>Landfill_Closure_Year</th>\n",
       "      <th>Status</th>\n",
       "      <th>Current_Area</th>\n",
       "      <th>Current_Depth</th>\n",
       "      <th>Design_Capacity_tons</th>\n",
       "      <th>Waste_in_Place_tons</th>\n",
       "      <th>Annual_waste_acceptance_rate_tons</th>\n",
       "    </tr>\n",
       "  </thead>\n",
       "  <tbody>\n",
       "    <tr>\n",
       "      <td>0</td>\n",
       "      <td>352</td>\n",
       "      <td>Puente Hills LF</td>\n",
       "      <td>Puente Hills (PERG); San Gabriel Valley Dump</td>\n",
       "      <td>CA</td>\n",
       "      <td>Whittier</td>\n",
       "      <td>Los Angeles</td>\n",
       "      <td>90601.0</td>\n",
       "      <td>34.020330</td>\n",
       "      <td>-118.006040</td>\n",
       "      <td>Public</td>\n",
       "      <td>1957.0</td>\n",
       "      <td>2013.0</td>\n",
       "      <td>Closed</td>\n",
       "      <td>590.0</td>\n",
       "      <td>229.5</td>\n",
       "      <td>142400000.0</td>\n",
       "      <td>142250454.0</td>\n",
       "      <td>2135318.0</td>\n",
       "    </tr>\n",
       "    <tr>\n",
       "      <td>1</td>\n",
       "      <td>966</td>\n",
       "      <td>Fresh Kills SLF</td>\n",
       "      <td>NaN</td>\n",
       "      <td>NY</td>\n",
       "      <td>Staten Island</td>\n",
       "      <td>Richmond</td>\n",
       "      <td>10312.0</td>\n",
       "      <td>40.572000</td>\n",
       "      <td>-74.188000</td>\n",
       "      <td>Public</td>\n",
       "      <td>1948.0</td>\n",
       "      <td>2002.0</td>\n",
       "      <td>Closed</td>\n",
       "      <td>1416.0</td>\n",
       "      <td>NaN</td>\n",
       "      <td>135450945.0</td>\n",
       "      <td>135450945.0</td>\n",
       "      <td>1014300.0</td>\n",
       "    </tr>\n",
       "    <tr>\n",
       "      <td>2</td>\n",
       "      <td>1465</td>\n",
       "      <td>McCarty Road LF</td>\n",
       "      <td>NaN</td>\n",
       "      <td>TX</td>\n",
       "      <td>Houston</td>\n",
       "      <td>Harris</td>\n",
       "      <td>77078.0</td>\n",
       "      <td>29.827501</td>\n",
       "      <td>-95.243334</td>\n",
       "      <td>Private</td>\n",
       "      <td>1972.0</td>\n",
       "      <td>2031.0</td>\n",
       "      <td>Open</td>\n",
       "      <td>388.0</td>\n",
       "      <td>NaN</td>\n",
       "      <td>123783905.0</td>\n",
       "      <td>97983501.0</td>\n",
       "      <td>1834618.0</td>\n",
       "    </tr>\n",
       "    <tr>\n",
       "      <td>3</td>\n",
       "      <td>232</td>\n",
       "      <td>Olinda Alpha SLF</td>\n",
       "      <td>Olinda SLF</td>\n",
       "      <td>CA</td>\n",
       "      <td>Brea</td>\n",
       "      <td>Orange</td>\n",
       "      <td>92823.0</td>\n",
       "      <td>33.933610</td>\n",
       "      <td>-117.843610</td>\n",
       "      <td>Public</td>\n",
       "      <td>1960.0</td>\n",
       "      <td>2021.0</td>\n",
       "      <td>Open</td>\n",
       "      <td>420.0</td>\n",
       "      <td>235.0</td>\n",
       "      <td>96736556.0</td>\n",
       "      <td>86320460.0</td>\n",
       "      <td>2331531.0</td>\n",
       "    </tr>\n",
       "    <tr>\n",
       "      <td>4</td>\n",
       "      <td>930</td>\n",
       "      <td>Apex Regional LF</td>\n",
       "      <td>NaN</td>\n",
       "      <td>NV</td>\n",
       "      <td>Las Vegas</td>\n",
       "      <td>Clark</td>\n",
       "      <td>89165.0</td>\n",
       "      <td>36.374000</td>\n",
       "      <td>-114.865180</td>\n",
       "      <td>Private</td>\n",
       "      <td>1993.0</td>\n",
       "      <td>2365.0</td>\n",
       "      <td>Open</td>\n",
       "      <td>297.0</td>\n",
       "      <td>300.0</td>\n",
       "      <td>994920296.0</td>\n",
       "      <td>72848073.0</td>\n",
       "      <td>2804493.0</td>\n",
       "    </tr>\n",
       "  </tbody>\n",
       "</table>\n",
       "</div>"
      ],
      "text/plain": [
       "   Landfill_ID     Landfill_Name  \\\n",
       "0          352   Puente Hills LF   \n",
       "1          966   Fresh Kills SLF   \n",
       "2         1465   McCarty Road LF   \n",
       "3          232  Olinda Alpha SLF   \n",
       "4          930  Apex Regional LF   \n",
       "\n",
       "                                 Landfill_Alias State           City  \\\n",
       "0  Puente Hills (PERG); San Gabriel Valley Dump    CA       Whittier   \n",
       "1                                           NaN    NY  Staten Island   \n",
       "2                                           NaN    TX        Houston   \n",
       "3                                    Olinda SLF    CA           Brea   \n",
       "4                                           NaN    NV      Las Vegas   \n",
       "\n",
       "        County  Zipcode   Latitude   Longitude Ownership_Type  Year_opened  \\\n",
       "0  Los Angeles  90601.0  34.020330 -118.006040         Public       1957.0   \n",
       "1     Richmond  10312.0  40.572000  -74.188000         Public       1948.0   \n",
       "2       Harris  77078.0  29.827501  -95.243334        Private       1972.0   \n",
       "3       Orange  92823.0  33.933610 -117.843610         Public       1960.0   \n",
       "4        Clark  89165.0  36.374000 -114.865180        Private       1993.0   \n",
       "\n",
       "   Landfill_Closure_Year  Status  Current_Area  Current_Depth  \\\n",
       "0                 2013.0  Closed         590.0          229.5   \n",
       "1                 2002.0  Closed        1416.0            NaN   \n",
       "2                 2031.0    Open         388.0            NaN   \n",
       "3                 2021.0    Open         420.0          235.0   \n",
       "4                 2365.0    Open         297.0          300.0   \n",
       "\n",
       "   Design_Capacity_tons  Waste_in_Place_tons  \\\n",
       "0           142400000.0          142250454.0   \n",
       "1           135450945.0          135450945.0   \n",
       "2           123783905.0           97983501.0   \n",
       "3            96736556.0           86320460.0   \n",
       "4           994920296.0           72848073.0   \n",
       "\n",
       "   Annual_waste_acceptance_rate_tons  \n",
       "0                          2135318.0  \n",
       "1                          1014300.0  \n",
       "2                          1834618.0  \n",
       "3                          2331531.0  \n",
       "4                          2804493.0  "
      ]
     },
     "execution_count": 61,
     "metadata": {},
     "output_type": "execute_result"
    }
   ],
   "source": [
    "df.head()"
   ]
  },
  {
   "cell_type": "code",
   "execution_count": 62,
   "metadata": {},
   "outputs": [
    {
     "data": {
      "text/plain": [
       "Landfill_ID                            int64\n",
       "Landfill_Name                         object\n",
       "Landfill_Alias                        object\n",
       "State                                 object\n",
       "City                                  object\n",
       "County                                object\n",
       "Zipcode                              float64\n",
       "Latitude                             float64\n",
       "Longitude                            float64\n",
       "Ownership_Type                        object\n",
       "Year_opened                          float64\n",
       "Landfill_Closure_Year                float64\n",
       "Status                                object\n",
       "Current_Area                         float64\n",
       "Current_Depth                        float64\n",
       "Design_Capacity_tons                 float64\n",
       "Waste_in_Place_tons                  float64\n",
       "Annual_waste_acceptance_rate_tons    float64\n",
       "dtype: object"
      ]
     },
     "execution_count": 62,
     "metadata": {},
     "output_type": "execute_result"
    }
   ],
   "source": [
    "df.dtypes"
   ]
  },
  {
   "cell_type": "code",
   "execution_count": 63,
   "metadata": {},
   "outputs": [
    {
     "data": {
      "image/png": "[encoded data removed]",
      "text/plain": [
       "<Figure size 432x288 with 1 Axes>"
      ]
     },
     "metadata": {
      "needs_background": "light"
     },
     "output_type": "display_data"
    }
   ],
   "source": [
    "df['Status'].value_counts().plot(kind='bar')\n",
    "plt.title(\"Distribution of Landfill Types in US\")\n",
    "plt.ylabel(\"Frequency\")\n",
    "pass"
   ]
  },
  {
   "cell_type": "code",
   "execution_count": 68,
   "metadata": {},
   "outputs": [
    {
     "data": {
      "image/png": "[encoded data removed]",
      "text/plain": [
       "<Figure size 432x288 with 1 Axes>"
      ]
     },
     "metadata": {
      "needs_background": "light"
     },
     "output_type": "display_data"
    }
   ],
   "source": [
    "df[df['Status'] == 'Open']['Annual_waste_acceptance_rate_tons'].plot(kind='hist', bins=30)\n",
    "plt.title('Distribution of Annual Waste Acceptance Rate (Tons) for Open Landfills (US)')\n",
    "plt.xlabel('Metric Tons / Year')\n",
    "pass"
   ]
  },
  {
   "cell_type": "code",
   "execution_count": 75,
   "metadata": {},
   "outputs": [
    {
     "data": {
      "text/plain": [
       "195"
      ]
     },
     "execution_count": 75,
     "metadata": {},
     "output_type": "execute_result"
    }
   ],
   "source": [
    "len(df[df['Annual_waste_acceptance_rate_tons'] > 600000])"
   ]
  },
  {
   "cell_type": "code",
   "execution_count": 76,
   "metadata": {},
   "outputs": [],
   "source": [
    "df_filtered = df[df['Annual_waste_acceptance_rate_tons'] > 600000]"
   ]
  },
  {
   "cell_type": "code",
   "execution_count": 77,
   "metadata": {},
   "outputs": [],
   "source": [
    "df_filtered.to_csv('Large_open_US_landfills.csv', index=False)"
   ]
  }
 ],
 "metadata": {
  "kernelspec": {
   "display_name": "Python 3",
   "language": "python",
   "name": "python3"
  },
  "language_info": {
   "codemirror_mode": {
    "name": "ipython",
    "version": 3
   },
   "file_extension": ".py",
   "mimetype": "text/x-python",
   "name": "python",
   "nbconvert_exporter": "python",
   "pygments_lexer": "ipython3",
   "version": "3.7.4"
  }
 },
 "nbformat": 4,
 "nbformat_minor": 2
}
