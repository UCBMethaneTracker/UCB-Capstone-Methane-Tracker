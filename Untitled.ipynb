{
 "cells": [
  {
   "cell_type": "code",
   "execution_count": 1,
   "id": "7b7ea340",
   "metadata": {},
   "outputs": [],
   "source": [
    "import os"
   ]
  },
  {
   "cell_type": "code",
   "execution_count": 2,
   "id": "0ead9ef9",
   "metadata": {},
   "outputs": [],
   "source": [
    "# image_path = 'D:/MIDS/CAPSTONE/UCB-Capstone-Methane-Tracker/data_tagging/michael/training/'\n",
    "# tag_path = 'D:/MIDS/CAPSTONE/UCB-Capstone-Methane-Tracker/data_tagging/michael/YOLO_tags/'\n",
    "\n",
    "image_path = 'D:/MIDS/CAPSTONE/UCB-Capstone-Methane-Tracker/data_tagging/lalit/training/'\n",
    "tag_path = 'D:/MIDS/CAPSTONE/UCB-Capstone-Methane-Tracker/data_tagging/lalit/labels/'"
   ]
  },
  {
   "cell_type": "code",
   "execution_count": 4,
   "id": "c8379ec8",
   "metadata": {},
   "outputs": [
    {
     "name": "stdout",
     "output_type": "stream",
     "text": [
      "BASE_-1315890604230809293.png\n",
      "BASE_-2018533049339501381.png\n",
      "BASE_-2131777716764579693.png\n",
      "BASE_-2438646236413441210.png\n",
      "BASE_-2639488590487584039.png\n",
      "BASE_-2799693642636653110.png\n",
      "BASE_-3161611678532419202.png\n",
      "BASE_-3286482016527169136.png\n",
      "BASE_-3382084821860288801.png\n",
      "BASE_-3698846849006440694.png\n",
      "BASE_-4314986279297651017.png\n",
      "BASE_-4461746116075957006.png\n",
      "BASE_-6339007016634516795.png\n",
      "BASE_-6438012563066904024.png\n",
      "BASE_-6515226813847499318.png\n",
      "BASE_-6515980317094266337.png\n",
      "BASE_-6559027675094234672.png\n",
      "BASE_-6784165012117740393.png\n",
      "BASE_-7135157699233182804.png\n",
      "BASE_-7314845259814124546.png\n",
      "BASE_-7617076264637057354.png\n",
      "BASE_-8158084176650755914.png\n",
      "BASE_-8189691730243719251.png\n",
      "BASE_-8680755302157091541.png\n",
      "BASE_-8923421353736791037.png\n",
      "BASE_-8974046550081716881.png\n",
      "BASE_-9044199877262623250.png\n",
      "BASE_-9070109073030323444.png\n",
      "BASE_-9134851716580316374.png\n",
      "BASE_-946810867194638645.png\n",
      "BASE_1461355474845643107.png\n",
      "BASE_1616674777746072246.png\n",
      "BASE_1657622694716423811.png\n",
      "BASE_2105180562384577214.png\n",
      "BASE_2349863094642469548.png\n",
      "BASE_2676716349385599660.png\n",
      "BASE_3105064774222165488.png\n",
      "BASE_3109993071523706652.png\n",
      "BASE_3596203005432261687.png\n",
      "BASE_3761918864973561597.png\n",
      "BASE_3857231770735517383.png\n",
      "BASE_3931208346673588969.png\n",
      "BASE_3972458552949067080.png\n",
      "BASE_3980723680618724281.png\n",
      "BASE_4226850118505555638.png\n",
      "BASE_4350833870943779117.png\n",
      "BASE_4789703503002939146.png\n",
      "BASE_4971227807475226716.png\n",
      "BASE_498851449642565473.png\n",
      "BASE_5006268001528677374.png\n",
      "BASE_5204609828709097159.png\n",
      "BASE_5760989143198491318.png\n",
      "BASE_5904944609992030745.png\n",
      "BASE_6039419855130322149.png\n",
      "BASE_6207643871675417744.png\n",
      "BASE_6207935166095711777.png\n",
      "BASE_6254208200521719869.png\n",
      "BASE_6324425259727078789.png\n",
      "BASE_6366658144371464042.png\n",
      "BASE_6453028464960618184.png\n",
      "BASE_6465863445069275744.png\n",
      "BASE_6574405380093494416.png\n",
      "BASE_6636550746511917785.png\n",
      "BASE_6691926360807236286.png\n",
      "BASE_6851135539112263126.png\n",
      "BASE_6950014324965216871.png\n",
      "BASE_6989391088677688156.png\n",
      "BASE_7398883530091404833.png\n",
      "BASE_7539681149771548038.png\n",
      "BASE_7615610147681930323.png\n",
      "BASE_7686266754181151886.png\n",
      "BASE_7694512779814504118.png\n",
      "BASE_7728824050930619228.png\n",
      "BASE_7835384023965931033.png\n",
      "BASE_7883981488570071811.png\n",
      "BASE_7933669514940590449.png\n",
      "BASE_8149121861083036191.png\n",
      "BASE_8241651440246011202.png\n",
      "BASE_8543986567134314251.png\n",
      "BASE_8596222392678978708.png\n",
      "BASE_8727924903973300537.png\n",
      "BASE_8783987109025499600.png\n",
      "BASE_9030879942724693395.png\n",
      "BASE_9043689292623795397.png\n",
      "BASE_9044852621482673340.png\n",
      "BASE_9052600118974147899.png\n",
      "BASE_9131491111421915123.png\n",
      "BASE_9155152221339793119.png\n",
      "BASE_9159278784148961823.png\n",
      "BASE_9190673172597478090.png\n"
     ]
    }
   ],
   "source": [
    "for f in os.listdir(image_path):\n",
    "    #print(f)\n",
    "    f_name = f[:-4]+'.txt'\n",
    "    if not os.path.exists(os.path.join(tag_path, f_name)):\n",
    "        print(f)\n",
    "        os.remove(os.path.join(image_path, f))"
   ]
  },
  {
   "cell_type": "code",
   "execution_count": null,
   "id": "dc4504bc",
   "metadata": {},
   "outputs": [],
   "source": []
  },
  {
   "cell_type": "code",
   "execution_count": null,
   "id": "1beb39e2",
   "metadata": {},
   "outputs": [],
   "source": []
  },
  {
   "cell_type": "code",
   "execution_count": null,
   "id": "54defe14",
   "metadata": {},
   "outputs": [],
   "source": []
  },
  {
   "cell_type": "code",
   "execution_count": null,
   "id": "2a9a33af",
   "metadata": {},
   "outputs": [],
   "source": []
  }
 ],
 "metadata": {
  "kernelspec": {
   "display_name": "Python 3",
   "language": "python",
   "name": "python3"
  },
  "language_info": {
   "codemirror_mode": {
    "name": "ipython",
    "version": 3
   },
   "file_extension": ".py",
   "mimetype": "text/x-python",
   "name": "python",
   "nbconvert_exporter": "python",
   "pygments_lexer": "ipython3",
   "version": "3.7.4"
  }
 },
 "nbformat": 4,
 "nbformat_minor": 5
}
