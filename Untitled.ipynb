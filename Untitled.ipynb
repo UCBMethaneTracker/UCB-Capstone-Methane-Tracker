{
 "cells": [
  {
   "cell_type": "code",
   "execution_count": 1,
   "id": "015bddda",
   "metadata": {},
   "outputs": [],
   "source": [
    "import os"
   ]
  },
  {
   "cell_type": "code",
   "execution_count": 2,
   "id": "ab823849",
   "metadata": {},
   "outputs": [],
   "source": [
    "image_path = 'D:/MIDS/CAPSTONE/UCB-Capstone-Methane-Tracker/data_tagging/michael/training/'\n",
    "tag_path = 'D:/MIDS/CAPSTONE/UCB-Capstone-Methane-Tracker/data_tagging/michael/YOLO_tags/'"
   ]
  },
  {
   "cell_type": "code",
   "execution_count": 7,
   "id": "0177a0a3",
   "metadata": {},
   "outputs": [
    {
     "name": "stdout",
     "output_type": "stream",
     "text": [
      "BASE_-1776012943470379332.png\n",
      "BASE_-2456703490350622664.png\n",
      "BASE_-2942969260214001436.png\n",
      "BASE_-3154949472633843949.png\n",
      "BASE_-3388683185578382099.png\n",
      "BASE_-338896656397505712.png\n",
      "BASE_-3718553297663100101.png\n",
      "BASE_-3741732530237274992.png\n",
      "BASE_-4419707142465564514.png\n",
      "BASE_-4482654213622513282.png\n",
      "BASE_-4648557109538702817.png\n",
      "BASE_-5805800951494655128.png\n",
      "BASE_-5873011722486420243.png\n",
      "BASE_-6086050869005749566.png\n",
      "BASE_-6232766571446199705.png\n",
      "BASE_-6702071088798329285.png\n",
      "BASE_-743925219356514058.png\n",
      "BASE_-7693130528925471195.png\n",
      "BASE_-7822653850506234368.png\n",
      "BASE_-7825560129055021097.png\n",
      "BASE_-8109159948519655830.png\n",
      "BASE_-835763415331289738.png\n",
      "BASE_-8485868638888287143.png\n",
      "BASE_-850387463573082832.png\n",
      "BASE_-8538220522425144639.png\n",
      "BASE_1424208215664687647.png\n",
      "BASE_1457783558933032777.png\n",
      "BASE_1582069632930463253.png\n",
      "BASE_159742450402087772.png\n",
      "BASE_1701821324505063652.png\n",
      "BASE_2305541593010345354.png\n",
      "BASE_2684953563973417568.png\n",
      "BASE_2864457259022561291.png\n",
      "BASE_2865685720937752883.png\n",
      "BASE_2866451943167492705.png\n",
      "BASE_3078675367886960870.png\n",
      "BASE_3146358537980768816.png\n",
      "BASE_3394034027887857801.png\n",
      "BASE_3411328135351872979.png\n",
      "BASE_3711829935686135646.png\n",
      "BASE_3868623988168389642.png\n",
      "BASE_392446059905462832.png\n",
      "BASE_4203995197911324351.png\n",
      "BASE_4709154658331594416.png\n",
      "BASE_520949168667952203.png\n",
      "BASE_5353619556729363606.png\n",
      "BASE_54416637774300801.png\n",
      "BASE_591531536874137740.png\n",
      "BASE_613022913041025256.png\n",
      "BASE_6513080701086412053.png\n",
      "BASE_6717740308978792824.png\n",
      "BASE_6734696743752282229.png\n",
      "BASE_6782715619742564975.png\n",
      "BASE_6872223243250395841.png\n",
      "BASE_7043494971787209011.png\n",
      "BASE_7362446438493259457.png\n",
      "BASE_7366143087777171034.png\n"
     ]
    }
   ],
   "source": [
    "for f in os.listdir(image_path):\n",
    "    #print(f)\n",
    "    f_name = f[:-4]+'.txt'\n",
    "    if not os.path.exists(os.path.join(tag_path, f_name)):\n",
    "        print(f)\n",
    "        os.remove(os.path.join(image_path, f))"
   ]
  },
  {
   "cell_type": "code",
   "execution_count": null,
   "id": "a587caf9",
   "metadata": {},
   "outputs": [],
   "source": []
  },
  {
   "cell_type": "code",
   "execution_count": null,
   "id": "4c3b419a",
   "metadata": {},
   "outputs": [],
   "source": []
  },
  {
   "cell_type": "code",
   "execution_count": null,
   "id": "fdaefca9",
   "metadata": {},
   "outputs": [],
   "source": []
  },
  {
   "cell_type": "code",
   "execution_count": null,
   "id": "da8474ef",
   "metadata": {},
   "outputs": [],
   "source": []
  }
 ],
 "metadata": {
  "kernelspec": {
   "display_name": "Python 3",
   "language": "python",
   "name": "python3"
  },
  "language_info": {
   "codemirror_mode": {
    "name": "ipython",
    "version": 3
   },
   "file_extension": ".py",
   "mimetype": "text/x-python",
   "name": "python",
   "nbconvert_exporter": "python",
   "pygments_lexer": "ipython3",
   "version": "3.7.4"
  }
 },
 "nbformat": 4,
 "nbformat_minor": 5
}
