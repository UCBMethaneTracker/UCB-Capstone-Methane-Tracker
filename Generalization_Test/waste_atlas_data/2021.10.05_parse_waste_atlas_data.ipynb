{
 "cells": [
  {
   "cell_type": "code",
   "execution_count": 2,
   "id": "b68d6684",
   "metadata": {},
   "outputs": [],
   "source": [
    "import pandas as pd\n",
    "import numpy as np\n",
    "from geopy.geocoders import Nominatim\n",
    "\n",
    "rawData = pd.read_xml('raw_data_waste_atlas.xml')"
   ]
  },
  {
   "cell_type": "code",
   "execution_count": 3,
   "id": "cacb5a80",
   "metadata": {},
   "outputs": [
    {
     "data": {
      "text/html": [
       "<div>\n",
       "<style scoped>\n",
       "    .dataframe tbody tr th:only-of-type {\n",
       "        vertical-align: middle;\n",
       "    }\n",
       "\n",
       "    .dataframe tbody tr th {\n",
       "        vertical-align: top;\n",
       "    }\n",
       "\n",
       "    .dataframe thead th {\n",
       "        text-align: right;\n",
       "    }\n",
       "</style>\n",
       "<table border=\"1\" class=\"dataframe\">\n",
       "  <thead>\n",
       "    <tr style=\"text-align: right;\">\n",
       "      <th></th>\n",
       "      <th>nr</th>\n",
       "      <th>number</th>\n",
       "      <th>city_number</th>\n",
       "      <th>location_number</th>\n",
       "      <th>name</th>\n",
       "      <th>address</th>\n",
       "      <th>lat</th>\n",
       "      <th>lng</th>\n",
       "      <th>category</th>\n",
       "    </tr>\n",
       "  </thead>\n",
       "  <tbody>\n",
       "    <tr>\n",
       "      <th>0</th>\n",
       "      <td>m0</td>\n",
       "      <td>1</td>\n",
       "      <td>0</td>\n",
       "      <td>0</td>\n",
       "      <td>SINGAPORE</td>\n",
       "      <td>&lt;table class='table table-hover content-mid' c...</td>\n",
       "      <td>1.352083</td>\n",
       "      <td>103.819836</td>\n",
       "      <td>country</td>\n",
       "    </tr>\n",
       "    <tr>\n",
       "      <th>1</th>\n",
       "      <td>m1</td>\n",
       "      <td>2</td>\n",
       "      <td>0</td>\n",
       "      <td>0</td>\n",
       "      <td>HONG KONG SAR, CHINA</td>\n",
       "      <td>&lt;table class='table table-hover content-mid' c...</td>\n",
       "      <td>22.396428</td>\n",
       "      <td>114.109497</td>\n",
       "      <td>country</td>\n",
       "    </tr>\n",
       "    <tr>\n",
       "      <th>2</th>\n",
       "      <td>m2</td>\n",
       "      <td>40</td>\n",
       "      <td>0</td>\n",
       "      <td>0</td>\n",
       "      <td>MACAO SAR, CHINA</td>\n",
       "      <td>&lt;table class='table table-hover content-mid' c...</td>\n",
       "      <td>22.198745</td>\n",
       "      <td>113.543873</td>\n",
       "      <td>country</td>\n",
       "    </tr>\n",
       "    <tr>\n",
       "      <th>3</th>\n",
       "      <td>m3</td>\n",
       "      <td>3</td>\n",
       "      <td>0</td>\n",
       "      <td>0</td>\n",
       "      <td>KOREA REP.</td>\n",
       "      <td>&lt;table class='table table-hover content-mid' c...</td>\n",
       "      <td>35.907757</td>\n",
       "      <td>127.766922</td>\n",
       "      <td>country</td>\n",
       "    </tr>\n",
       "    <tr>\n",
       "      <th>4</th>\n",
       "      <td>m4</td>\n",
       "      <td>4</td>\n",
       "      <td>0</td>\n",
       "      <td>0</td>\n",
       "      <td>BANGLADESH</td>\n",
       "      <td>&lt;table class='table table-hover content-mid' c...</td>\n",
       "      <td>23.684994</td>\n",
       "      <td>90.356331</td>\n",
       "      <td>country</td>\n",
       "    </tr>\n",
       "  </tbody>\n",
       "</table>\n",
       "</div>"
      ],
      "text/plain": [
       "   nr  number  city_number  location_number                  name  \\\n",
       "0  m0       1            0                0             SINGAPORE   \n",
       "1  m1       2            0                0  HONG KONG SAR, CHINA   \n",
       "2  m2      40            0                0      MACAO SAR, CHINA   \n",
       "3  m3       3            0                0            KOREA REP.   \n",
       "4  m4       4            0                0            BANGLADESH   \n",
       "\n",
       "                                             address        lat         lng  \\\n",
       "0  <table class='table table-hover content-mid' c...   1.352083  103.819836   \n",
       "1  <table class='table table-hover content-mid' c...  22.396428  114.109497   \n",
       "2  <table class='table table-hover content-mid' c...  22.198745  113.543873   \n",
       "3  <table class='table table-hover content-mid' c...  35.907757  127.766922   \n",
       "4  <table class='table table-hover content-mid' c...  23.684994   90.356331   \n",
       "\n",
       "  category  \n",
       "0  country  \n",
       "1  country  \n",
       "2  country  \n",
       "3  country  \n",
       "4  country  "
      ]
     },
     "execution_count": 3,
     "metadata": {},
     "output_type": "execute_result"
    }
   ],
   "source": [
    "rawData.head()"
   ]
  },
  {
   "cell_type": "code",
   "execution_count": 23,
   "id": "a73276f6",
   "metadata": {},
   "outputs": [
    {
     "data": {
      "text/plain": [
       "city                    1799\n",
       "Sanitary Landfills      1626\n",
       "WtE                      716\n",
       "country                  164\n",
       "MBT                      130\n",
       "Dumpsites                 93\n",
       "Biological Treatment      78\n",
       "Name: category, dtype: int64"
      ]
     },
     "execution_count": 23,
     "metadata": {},
     "output_type": "execute_result"
    }
   ],
   "source": [
    "rawData['category'].value_counts()"
   ]
  },
  {
   "cell_type": "code",
   "execution_count": 104,
   "id": "14d4f1b5",
   "metadata": {},
   "outputs": [
    {
     "data": {
      "text/html": [
       "<div>\n",
       "<style scoped>\n",
       "    .dataframe tbody tr th:only-of-type {\n",
       "        vertical-align: middle;\n",
       "    }\n",
       "\n",
       "    .dataframe tbody tr th {\n",
       "        vertical-align: top;\n",
       "    }\n",
       "\n",
       "    .dataframe thead th {\n",
       "        text-align: right;\n",
       "    }\n",
       "</style>\n",
       "<table border=\"1\" class=\"dataframe\">\n",
       "  <thead>\n",
       "    <tr style=\"text-align: right;\">\n",
       "      <th></th>\n",
       "      <th>nr</th>\n",
       "      <th>number</th>\n",
       "      <th>city_number</th>\n",
       "      <th>location_number</th>\n",
       "      <th>name</th>\n",
       "      <th>address</th>\n",
       "      <th>lat</th>\n",
       "      <th>lng</th>\n",
       "      <th>category</th>\n",
       "    </tr>\n",
       "  </thead>\n",
       "  <tbody>\n",
       "    <tr>\n",
       "      <th>1963</th>\n",
       "      <td>m1963</td>\n",
       "      <td>13</td>\n",
       "      <td>772</td>\n",
       "      <td>3</td>\n",
       "      <td>BORDO PONIENTE</td>\n",
       "      <td>&lt;table class='table table-hover content-mid'  ...</td>\n",
       "      <td>19.4529960</td>\n",
       "      <td>-99.016299</td>\n",
       "      <td>Dumpsites</td>\n",
       "    </tr>\n",
       "    <tr>\n",
       "      <th>1964</th>\n",
       "      <td>m1964</td>\n",
       "      <td>86</td>\n",
       "      <td>1943</td>\n",
       "      <td>10</td>\n",
       "      <td>CLUJ NAPOCA</td>\n",
       "      <td>&lt;table class='table table-hover content-mid'  ...</td>\n",
       "      <td>46.76510351</td>\n",
       "      <td>23.687274</td>\n",
       "      <td>Dumpsites</td>\n",
       "    </tr>\n",
       "    <tr>\n",
       "      <th>1965</th>\n",
       "      <td>m1965</td>\n",
       "      <td>16</td>\n",
       "      <td>56</td>\n",
       "      <td>4</td>\n",
       "      <td>JARDIM GRAMACHO</td>\n",
       "      <td>&lt;table class='table table-hover content-mid'  ...</td>\n",
       "      <td>-22.7489058</td>\n",
       "      <td>-43.258978</td>\n",
       "      <td>Dumpsites</td>\n",
       "    </tr>\n",
       "    <tr>\n",
       "      <th>1966</th>\n",
       "      <td>m1966</td>\n",
       "      <td>92</td>\n",
       "      <td>14</td>\n",
       "      <td>5</td>\n",
       "      <td>PAYATAS</td>\n",
       "      <td>&lt;table class='table table-hover content-mid'  ...</td>\n",
       "      <td>14.714258252</td>\n",
       "      <td>121.106758</td>\n",
       "      <td>Dumpsites</td>\n",
       "    </tr>\n",
       "    <tr>\n",
       "      <th>1967</th>\n",
       "      <td>m1967</td>\n",
       "      <td>110</td>\n",
       "      <td>13</td>\n",
       "      <td>1737</td>\n",
       "      <td>DANDORA MUNICIPAL DUMPING SITE</td>\n",
       "      <td>&lt;table class='table table-hover content-mid'  ...</td>\n",
       "      <td>-1.2492656896</td>\n",
       "      <td>36.895381</td>\n",
       "      <td>Dumpsites</td>\n",
       "    </tr>\n",
       "  </tbody>\n",
       "</table>\n",
       "</div>"
      ],
      "text/plain": [
       "         nr  number  city_number  location_number  \\\n",
       "1963  m1963      13          772                3   \n",
       "1964  m1964      86         1943               10   \n",
       "1965  m1965      16           56                4   \n",
       "1966  m1966      92           14                5   \n",
       "1967  m1967     110           13             1737   \n",
       "\n",
       "                                name  \\\n",
       "1963                  BORDO PONIENTE   \n",
       "1964                     CLUJ NAPOCA   \n",
       "1965                 JARDIM GRAMACHO   \n",
       "1966                         PAYATAS   \n",
       "1967  DANDORA MUNICIPAL DUMPING SITE   \n",
       "\n",
       "                                                address            lat  \\\n",
       "1963  <table class='table table-hover content-mid'  ...     19.4529960   \n",
       "1964  <table class='table table-hover content-mid'  ...    46.76510351   \n",
       "1965  <table class='table table-hover content-mid'  ...    -22.7489058   \n",
       "1966  <table class='table table-hover content-mid'  ...   14.714258252   \n",
       "1967  <table class='table table-hover content-mid'  ...  -1.2492656896   \n",
       "\n",
       "             lng   category  \n",
       "1963  -99.016299  Dumpsites  \n",
       "1964   23.687274  Dumpsites  \n",
       "1965  -43.258978  Dumpsites  \n",
       "1966  121.106758  Dumpsites  \n",
       "1967   36.895381  Dumpsites  "
      ]
     },
     "execution_count": 104,
     "metadata": {},
     "output_type": "execute_result"
    }
   ],
   "source": [
    "# slice to only markers indicating landfills and dumpsites\n",
    "\n",
    "slicedDf = rawData.loc[rawData['category'].isin(['Sanitary Landfills', 'Dumpsites'])]\n",
    "\n",
    "slicedDf.head()"
   ]
  },
  {
   "cell_type": "code",
   "execution_count": 113,
   "id": "69e14871",
   "metadata": {},
   "outputs": [],
   "source": [
    "# function for getting country from a lat/long coordinate (using geopy package)\n",
    "\n",
    "def get_country_from_latLong(lat, long, geolocatorObj):\n",
    "    location = geolocatorObj.reverse(str(lat) + ',' + str(long), language='en')\n",
    "    \n",
    "    try:\n",
    "        countryStr = location.raw['address']['country']\n",
    "    except Exception:\n",
    "        countryStr = np.nan\n",
    "        \n",
    "    return countryStr"
   ]
  },
  {
   "cell_type": "code",
   "execution_count": 114,
   "id": "8fb1e9cf",
   "metadata": {},
   "outputs": [
    {
     "name": "stderr",
     "output_type": "stream",
     "text": [
      "<ipython-input-114-8887a023614d>:5: SettingWithCopyWarning: \n",
      "A value is trying to be set on a copy of a slice from a DataFrame.\n",
      "Try using .loc[row_indexer,col_indexer] = value instead\n",
      "\n",
      "See the caveats in the documentation: https://pandas.pydata.org/pandas-docs/stable/user_guide/indexing.html#returning-a-view-versus-a-copy\n",
      "  slicedDf['country'] = slicedDf[['lat', 'lng']].apply(lambda x: get_country_from_latLong(x['lat'], x['lng'], geolocatorObj), axis=1)\n"
     ]
    }
   ],
   "source": [
    "# get country of each data point\n",
    "geolocatorObj = Nominatim(user_agent=\"geoapiExercises\")\n",
    "\n",
    "# note: .iloc[1592] (York County Landfill) seems to have an error in lat/long value (the coordinates plot to middle of the ocean)\n",
    "\n",
    "slicedDf['country'] = slicedDf[['lat', 'lng']].apply(lambda x: get_country_from_latLong(x['lat'], x['lng'], geolocatorObj), axis=1)"
   ]
  },
  {
   "cell_type": "code",
   "execution_count": 129,
   "id": "a0d0d28c",
   "metadata": {},
   "outputs": [
    {
     "data": {
      "text/plain": [
       "United States     1212\n",
       "Greece              47\n",
       "New Zealand         47\n",
       "Algeria             38\n",
       "Australia           35\n",
       "United Kingdom      25\n",
       "Argentina           24\n",
       "Serbia              21\n",
       "Mexico              19\n",
       "South Africa        18\n",
       "Portugal            18\n",
       "Brazil              17\n",
       "Tunisia             16\n",
       "Latvia              12\n",
       "India               10\n",
       "Chile               10\n",
       "Peru                10\n",
       "Nigeria             10\n",
       "Morocco              9\n",
       "Ukraine              8\n",
       "Name: country, dtype: int64"
      ]
     },
     "execution_count": 129,
     "metadata": {},
     "output_type": "execute_result"
    }
   ],
   "source": [
    "# which countries are most represented?\n",
    "\n",
    "slicedDf['country'].value_counts()[0:20]"
   ]
  },
  {
   "cell_type": "code",
   "execution_count": 125,
   "id": "c695e3e5",
   "metadata": {},
   "outputs": [
    {
     "data": {
      "text/plain": [
       "(507, 10)"
      ]
     },
     "execution_count": 125,
     "metadata": {},
     "output_type": "execute_result"
    }
   ],
   "source": [
    "# remove landfills in the US\n",
    "\n",
    "removedUSdf = slicedDf.loc[slicedDf['country'] != 'United States']\n",
    "removedUSdf.shape"
   ]
  },
  {
   "cell_type": "code",
   "execution_count": 127,
   "id": "65fde1b0",
   "metadata": {},
   "outputs": [],
   "source": [
    "# save processed data to csv file\n",
    "\n",
    "exportDf = removedUSdf[['name', 'country', 'category', 'lat', 'lng']]\n",
    "exportDf.index = np.arange(len(exportDf))\n",
    "exportDf.head()\n",
    "\n",
    "exportDf.to_csv('waste_atlas_latLongs.csv')"
   ]
  }
 ],
 "metadata": {
  "kernelspec": {
   "display_name": "Python 3",
   "language": "python",
   "name": "python3"
  },
  "language_info": {
   "codemirror_mode": {
    "name": "ipython",
    "version": 3
   },
   "file_extension": ".py",
   "mimetype": "text/x-python",
   "name": "python",
   "nbconvert_exporter": "python",
   "pygments_lexer": "ipython3",
   "version": "3.8.8"
  }
 },
 "nbformat": 4,
 "nbformat_minor": 5
}
