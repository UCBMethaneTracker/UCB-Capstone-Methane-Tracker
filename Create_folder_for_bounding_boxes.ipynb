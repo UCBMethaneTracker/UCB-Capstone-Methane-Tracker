{
 "cells": [
  {
   "cell_type": "code",
   "execution_count": 28,
   "id": "364810a9",
   "metadata": {},
   "outputs": [],
   "source": [
    "import os\n",
    "import pickle\n",
    "import numpy \n",
    "import shutil"
   ]
  },
  {
   "cell_type": "code",
   "execution_count": 3,
   "id": "43f1ce44",
   "metadata": {},
   "outputs": [],
   "source": [
    "base_path = 'D:/MIDS/CAPSTONE/UCB-Capstone-Methane-Tracker'\n",
    "training_data_dict_name = 'training_datadict.pkl'\n",
    "test_data_dict_name = 'test_datadict.pkl'\n",
    "training_data_images_path = 'D:/MIDS/CAPSTONE/UCB-Capstone-Methane-Tracker/training_data'\n",
    "test_data_images_path = 'D:/MIDS/CAPSTONE/UCB-Capstone-Methane-Tracker/test_data'\n",
    "tagging_images_path = 'D:/MIDS/CAPSTONE/UCB-Capstone-Methane-Tracker/data_tagging'"
   ]
  },
  {
   "cell_type": "code",
   "execution_count": 4,
   "id": "019747d4",
   "metadata": {},
   "outputs": [],
   "source": [
    "with open(os.path.join(base_path, training_data_dict_name), \"rb\") as training_loc:  \n",
    "    train_locs = pickle.load(training_loc)\n",
    "    \n",
    "with open(os.path.join(base_path, test_data_dict_name), \"rb\") as test_loc:  \n",
    "    test_locs = pickle.load(test_loc)"
   ]
  },
  {
   "cell_type": "markdown",
   "id": "c3bcaa27",
   "metadata": {},
   "source": [
    "### Partition within the group members"
   ]
  },
  {
   "cell_type": "code",
   "execution_count": 21,
   "id": "e895281c",
   "metadata": {},
   "outputs": [],
   "source": [
    "def partition_training_data(training_locations):\n",
    "    n = len(training_locations)\n",
    "    part_size = round(n * 2/9)\n",
    "    hash_list = list(training_locations.keys())\n",
    "    \n",
    "    return {\n",
    "        'lalit': hash_list[part_size*0 : part_size*1], \n",
    "        'sonya': hash_list[part_size*1 : part_size*2], \n",
    "        'bryan': hash_list[part_size*2 : part_size*3], \n",
    "        'michael': hash_list[part_size*3 : part_size*4], \n",
    "        'prakhar': hash_list[part_size*4 : ]\n",
    "    }"
   ]
  },
  {
   "cell_type": "code",
   "execution_count": 22,
   "id": "7bc56a1e",
   "metadata": {},
   "outputs": [],
   "source": [
    "partitioned_training_data = partition_training_data(training_locations= train_locs)"
   ]
  },
  {
   "cell_type": "code",
   "execution_count": 23,
   "id": "af13003d",
   "metadata": {},
   "outputs": [
    {
     "name": "stdout",
     "output_type": "stream",
     "text": [
      "lalit - 459\n",
      "sonya - 459\n",
      "bryan - 459\n",
      "michael - 459\n",
      "prakhar - 228\n"
     ]
    }
   ],
   "source": [
    "for k, v in partitioned_training_data.items():\n",
    "    print('{} - {}'.format(k, len(v)))"
   ]
  },
  {
   "cell_type": "markdown",
   "id": "b2cd3d52",
   "metadata": {},
   "source": [
    "### Copy the base files to the right folders"
   ]
  },
  {
   "cell_type": "code",
   "execution_count": 26,
   "id": "00bf5cca",
   "metadata": {},
   "outputs": [],
   "source": [
    "def get_base_filenames(hashmap):\n",
    "    base_file = 'BASE_'+str(hashmap)+'.png'\n",
    "    base_cent_file = 'BASE_'+str(hashmap)+'_CENT_.png'\n",
    "    base_cent_alt_file = 'BASE_'+str(hashmap)+'_CENT.png'\n",
    "    \n",
    "    return base_file, base_cent_file, base_cent_alt_file"
   ]
  },
  {
   "cell_type": "code",
   "execution_count": 27,
   "id": "ea654b0c",
   "metadata": {},
   "outputs": [],
   "source": [
    "def get_destination_folder(name):\n",
    "    if name == 'lalit':\n",
    "        dest = 'D:/MIDS/CAPSTONE/UCB-Capstone-Methane-Tracker/data_tagging/lalit/training'\n",
    "    elif name == 'sonya':\n",
    "        dest = 'D:/MIDS/CAPSTONE/UCB-Capstone-Methane-Tracker/data_tagging/sonya/training'\n",
    "    elif name == 'bryan':\n",
    "        dest = 'D:/MIDS/CAPSTONE/UCB-Capstone-Methane-Tracker/data_tagging/bryan/training'\n",
    "    elif name == 'michael':\n",
    "        dest = 'D:/MIDS/CAPSTONE/UCB-Capstone-Methane-Tracker/data_tagging/michael/training'\n",
    "    else:\n",
    "        dest = 'D:/MIDS/CAPSTONE/UCB-Capstone-Methane-Tracker/data_tagging/prakhar/training'\n",
    "    return dest"
   ]
  },
  {
   "cell_type": "code",
   "execution_count": 30,
   "id": "b8ff0a95",
   "metadata": {},
   "outputs": [],
   "source": [
    "for key, val in partitioned_training_data.items():\n",
    "    destination_folder = get_destination_folder(key)\n",
    "    source_folder = training_data_images_path\n",
    "    for hm in val:\n",
    "        base_file, base_cent_file, base_cent_alt_file = get_base_filenames(hm)\n",
    "        \n",
    "        try: \n",
    "            shutil.copy(src=os.path.join(source_folder, base_file), dst=destination_folder)\n",
    "        except:\n",
    "            pass\n",
    "        \n",
    "        try: \n",
    "            shutil.copy(src=os.path.join(source_folder, base_cent_file), dst=destination_folder)\n",
    "        except:\n",
    "            pass\n",
    "        \n",
    "        try: \n",
    "            shutil.copy(src=os.path.join(source_folder, base_cent_alt_file), dst=destination_folder)\n",
    "        except:\n",
    "            pass"
   ]
  },
  {
   "cell_type": "code",
   "execution_count": null,
   "id": "d1791e08",
   "metadata": {},
   "outputs": [],
   "source": [
    "for fname in os.listdir(test_data_images_path):\n",
    "    if fname.startswith('BASE'):\n",
    "        shutil.copy(src = os.path.join(test_data_images_path, fname), \n",
    "                    dst='D:/MIDS/CAPSTONE/UCB-Capstone-Methane-Tracker/data_tagging/prakhar/test')\n",
    "    else:\n",
    "        continue"
   ]
  },
  {
   "cell_type": "code",
   "execution_count": 31,
   "id": "844494be",
   "metadata": {},
   "outputs": [
    {
     "data": {
      "text/plain": [
       "True"
      ]
     },
     "execution_count": 31,
     "metadata": {},
     "output_type": "execute_result"
    }
   ],
   "source": [
    "s = 'BASE_-8141065252359506.png'\n",
    "s.startswith('BASE_')"
   ]
  },
  {
   "cell_type": "code",
   "execution_count": null,
   "id": "cfa681a9",
   "metadata": {},
   "outputs": [],
   "source": []
  },
  {
   "cell_type": "code",
   "execution_count": null,
   "id": "c35bb85f",
   "metadata": {},
   "outputs": [],
   "source": []
  },
  {
   "cell_type": "code",
   "execution_count": 25,
   "id": "34d18b58",
   "metadata": {},
   "outputs": [
    {
     "data": {
      "text/plain": [
       "int"
      ]
     },
     "execution_count": 25,
     "metadata": {},
     "output_type": "execute_result"
    }
   ],
   "source": [
    "type(partitioned_training_data['lalit'][0])"
   ]
  },
  {
   "cell_type": "code",
   "execution_count": null,
   "id": "61406cd3",
   "metadata": {},
   "outputs": [],
   "source": []
  },
  {
   "cell_type": "code",
   "execution_count": null,
   "id": "92c1cbba",
   "metadata": {},
   "outputs": [],
   "source": []
  },
  {
   "cell_type": "code",
   "execution_count": null,
   "id": "72d7df80",
   "metadata": {},
   "outputs": [],
   "source": []
  },
  {
   "cell_type": "code",
   "execution_count": null,
   "id": "f9c97722",
   "metadata": {},
   "outputs": [],
   "source": []
  },
  {
   "cell_type": "code",
   "execution_count": 12,
   "id": "8d32c035",
   "metadata": {},
   "outputs": [
    {
     "data": {
      "text/plain": [
       "459"
      ]
     },
     "execution_count": 12,
     "metadata": {},
     "output_type": "execute_result"
    }
   ],
   "source": [
    "round(len(train_locs)*2/9)"
   ]
  },
  {
   "cell_type": "code",
   "execution_count": 7,
   "id": "56500d12",
   "metadata": {},
   "outputs": [
    {
     "data": {
      "text/plain": [
       "229"
      ]
     },
     "execution_count": 7,
     "metadata": {},
     "output_type": "execute_result"
    }
   ],
   "source": [
    "len(test_locs)"
   ]
  },
  {
   "cell_type": "code",
   "execution_count": null,
   "id": "077a9436",
   "metadata": {},
   "outputs": [],
   "source": []
  },
  {
   "cell_type": "code",
   "execution_count": null,
   "id": "bb7d20eb",
   "metadata": {},
   "outputs": [],
   "source": []
  },
  {
   "cell_type": "code",
   "execution_count": null,
   "id": "744210c2",
   "metadata": {},
   "outputs": [],
   "source": []
  },
  {
   "cell_type": "code",
   "execution_count": null,
   "id": "e47e69e0",
   "metadata": {},
   "outputs": [],
   "source": []
  },
  {
   "cell_type": "code",
   "execution_count": null,
   "id": "6e6a0d84",
   "metadata": {},
   "outputs": [],
   "source": []
  },
  {
   "cell_type": "code",
   "execution_count": null,
   "id": "dedad2d2",
   "metadata": {},
   "outputs": [],
   "source": [
    "for itr, fname in enumerate(os.listdir(base_image_repo)):"
   ]
  },
  {
   "cell_type": "code",
   "execution_count": null,
   "id": "7ad78ec5",
   "metadata": {},
   "outputs": [],
   "source": []
  },
  {
   "cell_type": "code",
   "execution_count": null,
   "id": "73f33891",
   "metadata": {},
   "outputs": [],
   "source": []
  },
  {
   "cell_type": "code",
   "execution_count": null,
   "id": "b09b6f29",
   "metadata": {},
   "outputs": [],
   "source": []
  }
 ],
 "metadata": {
  "kernelspec": {
   "display_name": "Python 3",
   "language": "python",
   "name": "python3"
  },
  "language_info": {
   "codemirror_mode": {
    "name": "ipython",
    "version": 3
   },
   "file_extension": ".py",
   "mimetype": "text/x-python",
   "name": "python",
   "nbconvert_exporter": "python",
   "pygments_lexer": "ipython3",
   "version": "3.7.4"
  }
 },
 "nbformat": 4,
 "nbformat_minor": 5
}
