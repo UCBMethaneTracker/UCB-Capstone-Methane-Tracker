{
 "cells": [
  {
   "cell_type": "code",
   "execution_count": 28,
   "id": "92c55022",
   "metadata": {},
   "outputs": [],
   "source": [
    "import os\n",
    "import pickle\n",
    "import numpy \n",
    "import shutil"
   ]
  },
  {
   "cell_type": "code",
   "execution_count": 3,
   "id": "2a55e278",
   "metadata": {},
   "outputs": [],
   "source": [
    "base_path = 'D:/MIDS/CAPSTONE/UCB-Capstone-Methane-Tracker'\n",
    "training_data_dict_name = 'training_datadict.pkl'\n",
    "test_data_dict_name = 'test_datadict.pkl'\n",
    "training_data_images_path = 'D:/MIDS/CAPSTONE/UCB-Capstone-Methane-Tracker/training_data'\n",
    "test_data_images_path = 'D:/MIDS/CAPSTONE/UCB-Capstone-Methane-Tracker/test_data'\n",
    "tagging_images_path = 'D:/MIDS/CAPSTONE/UCB-Capstone-Methane-Tracker/data_tagging'"
   ]
  },
  {
   "cell_type": "code",
   "execution_count": 4,
   "id": "7f93ff62",
   "metadata": {},
   "outputs": [],
   "source": [
    "with open(os.path.join(base_path, training_data_dict_name), \"rb\") as training_loc:  \n",
    "    train_locs = pickle.load(training_loc)\n",
    "    \n",
    "with open(os.path.join(base_path, test_data_dict_name), \"rb\") as test_loc:  \n",
    "    test_locs = pickle.load(test_loc)"
   ]
  },
  {
   "cell_type": "markdown",
   "id": "da5f84e3",
   "metadata": {},
   "source": [
    "### Partition within the group members"
   ]
  },
  {
   "cell_type": "code",
   "execution_count": 21,
   "id": "41f543a0",
   "metadata": {},
   "outputs": [],
   "source": [
    "def partition_training_data(training_locations):\n",
    "    n = len(training_locations)\n",
    "    part_size = round(n * 2/9)\n",
    "    hash_list = list(training_locations.keys())\n",
    "    \n",
    "    return {\n",
    "        'lalit': hash_list[part_size*0 : part_size*1], \n",
    "        'sonya': hash_list[part_size*1 : part_size*2], \n",
    "        'bryan': hash_list[part_size*2 : part_size*3], \n",
    "        'michael': hash_list[part_size*3 : part_size*4], \n",
    "        'prakhar': hash_list[part_size*4 : ]\n",
    "    }"
   ]
  },
  {
   "cell_type": "code",
   "execution_count": 22,
   "id": "997e3180",
   "metadata": {},
   "outputs": [],
   "source": [
    "partitioned_training_data = partition_training_data(training_locations=train_locs)"
   ]
  },
  {
   "cell_type": "code",
   "execution_count": 23,
   "id": "5d10d3c1",
   "metadata": {},
   "outputs": [
    {
     "name": "stdout",
     "output_type": "stream",
     "text": [
      "lalit - 459\n",
      "sonya - 459\n",
      "bryan - 459\n",
      "michael - 459\n",
      "prakhar - 228\n"
     ]
    }
   ],
   "source": [
    "for k, v in partitioned_training_data.items():\n",
    "    print('{} - {}'.format(k, len(v)))"
   ]
  },
  {
   "cell_type": "markdown",
   "id": "8530c61f",
   "metadata": {},
   "source": [
    "### Copy the base files to the right folders"
   ]
  },
  {
   "cell_type": "code",
   "execution_count": 26,
   "id": "992a3d78",
   "metadata": {},
   "outputs": [],
   "source": [
    "def get_base_filenames(hashmap):\n",
    "    base_file = 'BASE_'+str(hashmap)+'.png'\n",
    "    base_cent_file = 'BASE_'+str(hashmap)+'_CENT_.png'\n",
    "    base_cent_alt_file = 'BASE_'+str(hashmap)+'_CENT.png'\n",
    "    \n",
    "    return base_file, base_cent_file, base_cent_alt_file"
   ]
  },
  {
   "cell_type": "code",
   "execution_count": 27,
   "id": "75e70318",
   "metadata": {},
   "outputs": [],
   "source": [
    "def get_destination_folder(name):\n",
    "    if name == 'lalit':\n",
    "        dest = 'D:/MIDS/CAPSTONE/UCB-Capstone-Methane-Tracker/data_tagging/lalit/training'\n",
    "    elif name == 'sonya':\n",
    "        dest = 'D:/MIDS/CAPSTONE/UCB-Capstone-Methane-Tracker/data_tagging/sonya/training'\n",
    "    elif name == 'bryan':\n",
    "        dest = 'D:/MIDS/CAPSTONE/UCB-Capstone-Methane-Tracker/data_tagging/bryan/training'\n",
    "    elif name == 'michael':\n",
    "        dest = 'D:/MIDS/CAPSTONE/UCB-Capstone-Methane-Tracker/data_tagging/michael/training'\n",
    "    else:\n",
    "        dest = 'D:/MIDS/CAPSTONE/UCB-Capstone-Methane-Tracker/data_tagging/prakhar/training'\n",
    "    return dest"
   ]
  },
  {
   "cell_type": "code",
   "execution_count": 30,
   "id": "79fff486",
   "metadata": {},
   "outputs": [],
   "source": [
    "for key, val in partitioned_training_data.items():\n",
    "    destination_folder = get_destination_folder(key)\n",
    "    source_folder = training_data_images_path\n",
    "    for hm in val:\n",
    "        base_file, base_cent_file, base_cent_alt_file = get_base_filenames(hm)\n",
    "        \n",
    "        try: \n",
    "            shutil.copy(src=os.path.join(source_folder, base_file), dst=destination_folder)\n",
    "        except:\n",
    "            pass\n",
    "        \n",
    "        try: \n",
    "            shutil.copy(src=os.path.join(source_folder, base_cent_file), dst=destination_folder)\n",
    "        except:\n",
    "            pass\n",
    "        \n",
    "        try: \n",
    "            shutil.copy(src=os.path.join(source_folder, base_cent_alt_file), dst=destination_folder)\n",
    "        except:\n",
    "            pass"
   ]
  },
  {
   "cell_type": "code",
   "execution_count": 32,
   "id": "c5a449d6",
   "metadata": {},
   "outputs": [],
   "source": [
    "for fname in os.listdir(test_data_images_path):\n",
    "    if fname.startswith('BASE'):\n",
    "        shutil.copy(src = os.path.join(test_data_images_path, fname), \n",
    "                    dst='D:/MIDS/CAPSTONE/UCB-Capstone-Methane-Tracker/data_tagging/prakhar/test')\n",
    "    else:\n",
    "        continue"
   ]
  },
  {
   "cell_type": "code",
   "execution_count": null,
   "id": "a3fa4056",
   "metadata": {},
   "outputs": [],
   "source": []
  },
  {
   "cell_type": "code",
   "execution_count": null,
   "id": "37963f6a",
   "metadata": {},
   "outputs": [],
   "source": []
  }
 ],
 "metadata": {
  "kernelspec": {
   "display_name": "Python 3",
   "language": "python",
   "name": "python3"
  },
  "language_info": {
   "codemirror_mode": {
    "name": "ipython",
    "version": 3
   },
   "file_extension": ".py",
   "mimetype": "text/x-python",
   "name": "python",
   "nbconvert_exporter": "python",
   "pygments_lexer": "ipython3",
   "version": "3.7.4"
  }
 },
 "nbformat": 4,
 "nbformat_minor": 5
}
